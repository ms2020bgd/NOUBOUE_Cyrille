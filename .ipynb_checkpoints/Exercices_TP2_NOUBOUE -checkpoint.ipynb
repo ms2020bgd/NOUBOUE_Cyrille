{
 "cells": [
  {
   "cell_type": "code",
   "execution_count": 2,
   "metadata": {},
   "outputs": [],
   "source": [
    "import math\n",
    "import unittest"
   ]
  },
  {
   "cell_type": "code",
   "execution_count": 7,
   "metadata": {},
   "outputs": [],
   "source": [
    "# Given a string and a non-negative int n, return a larger string\n",
    "# that is n copies of the original string.\n",
    "# Example: string_times(\"hey\", 3) should return \"heyheyhey\"\n",
    "def string_times(string, n):\n",
    "    \n",
    "    chaine = \"\"\n",
    "    \n",
    "    while(n != 0):\n",
    "        chaine = chaine + string\n",
    "        n = n-1\n",
    "    \n",
    "    return chaine"
   ]
  },
  {
   "cell_type": "code",
   "execution_count": 8,
   "metadata": {},
   "outputs": [],
   "source": [
    "chaine = string_times(\"string\", 3)"
   ]
  },
  {
   "cell_type": "code",
   "execution_count": 9,
   "metadata": {},
   "outputs": [
    {
     "data": {
      "text/plain": [
       "'stringstringstring'"
      ]
     },
     "execution_count": 9,
     "metadata": {},
     "output_type": "execute_result"
    }
   ],
   "source": [
    "chaine"
   ]
  },
  {
   "cell_type": "code",
   "execution_count": 11,
   "metadata": {},
   "outputs": [],
   "source": [
    "# Write a function which returns True if a year is a leap year.\n",
    "# A year is leap year if:\n",
    "# - it is divisible by 4 AND indivisible by 100\n",
    "# or if:\n",
    "# - it is divisible by 400\n",
    "def is_leap_year(year):\n",
    "    \n",
    "    if(year%400 == 0):\n",
    "        return True\n",
    "    else:\n",
    "        return False\n",
    "    \n",
    "    return\n"
   ]
  },
  {
   "cell_type": "code",
   "execution_count": 13,
   "metadata": {},
   "outputs": [
    {
     "data": {
      "text/plain": [
       "False"
      ]
     },
     "execution_count": 13,
     "metadata": {},
     "output_type": "execute_result"
    }
   ],
   "source": [
    "is_leap_year(2050)"
   ]
  },
  {
   "cell_type": "code",
   "execution_count": 19,
   "metadata": {},
   "outputs": [],
   "source": [
    "# Given a list of ints, return True if one of the first 4 elements\n",
    "# in the array is a 9. The list length may be less than 4.\n",
    "def array_front9(nums):\n",
    "    \n",
    "    if(len(nums) >= 4):\n",
    "        return False\n",
    "    else:\n",
    "        for i in nums:\n",
    "            if(i == 9):\n",
    "                return True\n",
    "        \n",
    "        \n",
    "    \n",
    "    return False"
   ]
  },
  {
   "cell_type": "code",
   "execution_count": 22,
   "metadata": {},
   "outputs": [
    {
     "data": {
      "text/plain": [
       "False"
      ]
     },
     "execution_count": 22,
     "metadata": {},
     "output_type": "execute_result"
    }
   ],
   "source": [
    "array_front9([1,1,7])"
   ]
  },
  {
   "cell_type": "code",
   "execution_count": 25,
   "metadata": {},
   "outputs": [],
   "source": [
    "# Given a list of ints, return the list of their square root.\n",
    "def list_sqrt(nums):\n",
    "    \n",
    "    sqrt_nums = []\n",
    "    \n",
    "    for i in nums:\n",
    "        sqrt_nums.append(math.sqrt(i))\n",
    "    \n",
    "    return sqrt_nums\n"
   ]
  },
  {
   "cell_type": "code",
   "execution_count": 28,
   "metadata": {},
   "outputs": [
    {
     "data": {
      "text/plain": [
       "[1.0, 1.4142135623730951, 2.0, 2.449489742783178, 3.0, 4.0, 5.0]"
      ]
     },
     "execution_count": 28,
     "metadata": {},
     "output_type": "execute_result"
    }
   ],
   "source": [
    "sqrt_nums = list_sqrt([1, 2, 4, 6, 9, 16, 25])\n",
    "sqrt_nums"
   ]
  },
  {
   "cell_type": "code",
   "execution_count": 32,
   "metadata": {},
   "outputs": [],
   "source": [
    "# Write a function which return a dict containing the number of time each letter\n",
    "# is present in the given text.\n",
    "def occurences(text):\n",
    "    \n",
    "    text = text.lower()\n",
    "    \n",
    "    list_words = text.split(' ')\n",
    "    \n",
    "    dict_words = {}\n",
    "    \n",
    "    for word in list_words:\n",
    "        \n",
    "        for char in word:\n",
    "            \n",
    "            if char in dict_words.keys():\n",
    "                dict_words[char] = dict_words[char] + 1\n",
    "            else :\n",
    "                dict_words[char] = 1\n",
    "    \n",
    "    return dict_words"
   ]
  },
  {
   "cell_type": "code",
   "execution_count": 30,
   "metadata": {},
   "outputs": [],
   "source": [
    "text = \"Un texte est une série orale ou écrite de mots perçus comme constituant un ensemble cohérent, porteur de sens et utilisant les structures propres à une langue. Un texte n'a pas de longueur déterminée sauf dans le cas de poèmes à forme fixe comme le\""
   ]
  },
  {
   "cell_type": "code",
   "execution_count": null,
   "metadata": {},
   "outputs": [],
   "source": []
  },
  {
   "cell_type": "code",
   "execution_count": 35,
   "metadata": {},
   "outputs": [
    {
     "data": {
      "text/plain": [
       "{\"'\": 1,\n",
       " ',': 1,\n",
       " '.': 1,\n",
       " 'a': 9,\n",
       " 'b': 1,\n",
       " 'c': 7,\n",
       " 'd': 6,\n",
       " 'e': 36,\n",
       " 'f': 3,\n",
       " 'g': 2,\n",
       " 'h': 1,\n",
       " 'i': 7,\n",
       " 'l': 8,\n",
       " 'm': 9,\n",
       " 'n': 16,\n",
       " 'o': 12,\n",
       " 'p': 6,\n",
       " 'r': 14,\n",
       " 's': 18,\n",
       " 't': 18,\n",
       " 'u': 16,\n",
       " 'x': 3,\n",
       " 'à': 2,\n",
       " 'ç': 1,\n",
       " 'è': 1,\n",
       " 'é': 5}"
      ]
     },
     "execution_count": 35,
     "metadata": {},
     "output_type": "execute_result"
    }
   ],
   "source": [
    "dict_word = occurences(text)\n",
    "dict_word"
   ]
  },
  {
   "cell_type": "code",
   "execution_count": 36,
   "metadata": {},
   "outputs": [],
   "source": [
    "# Write a function that maps a list of words into a list of\n",
    "# integers representing the lengths of the corresponding words.\n",
    "def length_words(words):\n",
    "    \n",
    "    list_lengths = []\n",
    "    \n",
    "    for word in words:\n",
    "        list_lengths.append(len(word))\n",
    "    \n",
    "    return list_lengths\n"
   ]
  },
  {
   "cell_type": "code",
   "execution_count": 37,
   "metadata": {},
   "outputs": [
    {
     "data": {
      "text/plain": [
       "[7, 7, 8]"
      ]
     },
     "execution_count": 37,
     "metadata": {},
     "output_type": "execute_result"
    }
   ],
   "source": [
    "list_lengths = length_words(['bonjour', 'bonsoir', 'aurevoir'])\n",
    "list_lengths"
   ]
  },
  {
   "cell_type": "code",
   "execution_count": 38,
   "metadata": {},
   "outputs": [],
   "source": [
    "# Write a function that takes a number and returns a list of its digits.\n",
    "def number_to_digits(number):\n",
    "    \n",
    "    digits = [ i for i in str(number)]\n",
    "    \n",
    "    return digits\n"
   ]
  },
  {
   "cell_type": "code",
   "execution_count": 40,
   "metadata": {},
   "outputs": [
    {
     "data": {
      "text/plain": [
       "['1', '2', '5']"
      ]
     },
     "execution_count": 40,
     "metadata": {},
     "output_type": "execute_result"
    }
   ],
   "source": [
    "digits = number_to_digits(125)\n",
    "digits"
   ]
  },
  {
   "cell_type": "code",
   "execution_count": 2,
   "metadata": {},
   "outputs": [],
   "source": [
    "mot = \"Test\""
   ]
  },
  {
   "cell_type": "code",
   "execution_count": 5,
   "metadata": {},
   "outputs": [
    {
     "data": {
      "text/plain": [
       "'estTay'"
      ]
     },
     "execution_count": 5,
     "metadata": {},
     "output_type": "execute_result"
    }
   ],
   "source": [
    "mot[1:] + mot[0] + 'ay'"
   ]
  },
  {
   "cell_type": "code",
   "execution_count": 8,
   "metadata": {},
   "outputs": [],
   "source": [
    "\n",
    "# Write a function that translates a text from english to Pig Latin.\n",
    "# English is translated to Pig Latin by taking the first letter of every word,\n",
    "# moving it to the end of the word, and adding 'ay'.\n",
    "def pig_latin(text):\n",
    "    \n",
    "    words = text.split(' ')\n",
    "    \n",
    "    new_words = []\n",
    "    for word in words:\n",
    "        \n",
    "        new_word = word[1:] + word[0] + 'ay'\n",
    "        new_words.append(new_word)\n",
    "    \n",
    "    pig_text = \" \".join(new_words)\n",
    "    \n",
    "    return pig_text"
   ]
  },
  {
   "cell_type": "code",
   "execution_count": 9,
   "metadata": {},
   "outputs": [],
   "source": [
    "text = pig_latin(\"Bonjour la Family\")"
   ]
  },
  {
   "cell_type": "code",
   "execution_count": 10,
   "metadata": {},
   "outputs": [
    {
     "data": {
      "text/plain": [
       "'onjourBay alay amilyFay'"
      ]
     },
     "execution_count": 10,
     "metadata": {},
     "output_type": "execute_result"
    }
   ],
   "source": [
    "text "
   ]
  },
  {
   "cell_type": "code",
   "execution_count": 19,
   "metadata": {},
   "outputs": [],
   "source": [
    "# Write a function which prints numbers from 1 to 100,\n",
    "# but which prints \"Fizz\" instead of multiple of 3,\n",
    "# \"Buzz\" instead of multiple of 5,\n",
    "# and \"FizzBuzz\" instead of multiple of 15\n",
    "def fizzbuzz():\n",
    "    \n",
    "    numbers = [i for i in range(100)]\n",
    "    \n",
    "    for n in numbers:\n",
    "        if(n%15 == 0):\n",
    "            print(\"BuzzFeed\" )\n",
    "        elif(n%5 == 0):\n",
    "            print(\"Buzz\")\n",
    "        elif(n%3 == 0):\n",
    "            print(\"Fizz\")\n",
    "        else:\n",
    "            print(n)\n",
    "    \n",
    "    return True"
   ]
  },
  {
   "cell_type": "code",
   "execution_count": 20,
   "metadata": {
    "collapsed": true
   },
   "outputs": [
    {
     "name": "stdout",
     "output_type": "stream",
     "text": [
      "BuzzFeed\n",
      "1\n",
      "2\n",
      "Fizz\n",
      "4\n",
      "Buzz\n",
      "Fizz\n",
      "7\n",
      "8\n",
      "Fizz\n",
      "Buzz\n",
      "11\n",
      "Fizz\n",
      "13\n",
      "14\n",
      "BuzzFeed\n",
      "16\n",
      "17\n",
      "Fizz\n",
      "19\n",
      "Buzz\n",
      "Fizz\n",
      "22\n",
      "23\n",
      "Fizz\n",
      "Buzz\n",
      "26\n",
      "Fizz\n",
      "28\n",
      "29\n",
      "BuzzFeed\n",
      "31\n",
      "32\n",
      "Fizz\n",
      "34\n",
      "Buzz\n",
      "Fizz\n",
      "37\n",
      "38\n",
      "Fizz\n",
      "Buzz\n",
      "41\n",
      "Fizz\n",
      "43\n",
      "44\n",
      "BuzzFeed\n",
      "46\n",
      "47\n",
      "Fizz\n",
      "49\n",
      "Buzz\n",
      "Fizz\n",
      "52\n",
      "53\n",
      "Fizz\n",
      "Buzz\n",
      "56\n",
      "Fizz\n",
      "58\n",
      "59\n",
      "BuzzFeed\n",
      "61\n",
      "62\n",
      "Fizz\n",
      "64\n",
      "Buzz\n",
      "Fizz\n",
      "67\n",
      "68\n",
      "Fizz\n",
      "Buzz\n",
      "71\n",
      "Fizz\n",
      "73\n",
      "74\n",
      "BuzzFeed\n",
      "76\n",
      "77\n",
      "Fizz\n",
      "79\n",
      "Buzz\n",
      "Fizz\n",
      "82\n",
      "83\n",
      "Fizz\n",
      "Buzz\n",
      "86\n",
      "Fizz\n",
      "88\n",
      "89\n",
      "BuzzFeed\n",
      "91\n",
      "92\n",
      "Fizz\n",
      "94\n",
      "Buzz\n",
      "Fizz\n",
      "97\n",
      "98\n",
      "Fizz\n"
     ]
    },
    {
     "data": {
      "text/plain": [
       "True"
      ]
     },
     "execution_count": 20,
     "metadata": {},
     "output_type": "execute_result"
    }
   ],
   "source": [
    "fizzbuzz()"
   ]
  },
  {
   "cell_type": "code",
   "execution_count": 29,
   "metadata": {},
   "outputs": [],
   "source": [
    "weather_data = {\n",
    "    \"Paris\": {\n",
    "        \"weather_list\": [{\n",
    "            \"dt\": 1569434400,\n",
    "            \"main\": {\"temp\": 289.15, \"humidity\": 76},\n",
    "            \"dt_txt\": \"2019-09-25 18:00:00\"\n",
    "        }, {\n",
    "            \"dt\": 1569445200,\n",
    "            \"main\": {\n",
    "                \"temp\": 289.62,\n",
    "                \"humidity\": 87\n",
    "            },\n",
    "            \"dt_txt\": \"2019-09-25 21:00:00\"\n",
    "        }],\n",
    "        \"metadata\": {\n",
    "            \"coord\": {\"lat\": 48.8566, \"lon\": 2.3515},\n",
    "            \"country\": \"FR\",\n",
    "        }\n",
    "    },\n",
    "    \"London\": {\n",
    "        \"weather_list\": [{\n",
    "            \"dt\": 1569434400,\n",
    "            \"main\": {\"temp\": 289.52, \"humidity\": 77},\n",
    "            \"dt_txt\": \"2019-09-25 18:00:00\"\n",
    "        }, {\n",
    "            \"dt\": 1569445200,\n",
    "            \"main\": {\"temp\": 287.78, \"humidity\": 86},\n",
    "            \"dt_txt\": \"2019-09-25 21:00:00\"\n",
    "        }],\n",
    "        \"metadata\": {\n",
    "            \"coord\": {\"lat\": 51.5073, \"lon\": -0.1277},\n",
    "            \"country\": \"GB\",\n",
    "        }\n",
    "    }\n",
    "}\n",
    "\n",
    "\n",
    "# Given the above data, write a function which return a list of dict,\n",
    "# where each dict contains these fields:\n",
    "# - name (str): the city name\n",
    "# - country (str): the city country\n",
    "# - date (str): the date\n",
    "# - temp (float): the temperature in °celsius (not °kelvin)\n",
    "def extract_data(data):\n",
    "    \n",
    "    new_dict = []\n",
    "    \n",
    "    for town in data.keys():\n",
    "        \n",
    "        for weather in data[town][\"weather_list\"]:\n",
    "            \n",
    "            dict_data = {\n",
    "                \"name\": town,\n",
    "                \"country\":data[town][\"metadata\"][\"country\"],\n",
    "                \"date\":weather[\"dt_txt\"],\n",
    "                \"temp\":weather[\"dt\"],\n",
    "            }\n",
    "            \n",
    "            new_dict.append(dict_data)\n",
    "        \n",
    "        \n",
    "    \n",
    "    return new_dict"
   ]
  },
  {
   "cell_type": "code",
   "execution_count": 30,
   "metadata": {},
   "outputs": [],
   "source": [
    "new_dict = extract_data(weather_data)"
   ]
  },
  {
   "cell_type": "code",
   "execution_count": 31,
   "metadata": {},
   "outputs": [
    {
     "data": {
      "text/plain": [
       "[{'country': 'FR',\n",
       "  'date': '2019-09-25 18:00:00',\n",
       "  'name': 'Paris',\n",
       "  'temp': 1569434400},\n",
       " {'country': 'FR',\n",
       "  'date': '2019-09-25 21:00:00',\n",
       "  'name': 'Paris',\n",
       "  'temp': 1569445200},\n",
       " {'country': 'GB',\n",
       "  'date': '2019-09-25 18:00:00',\n",
       "  'name': 'London',\n",
       "  'temp': 1569434400},\n",
       " {'country': 'GB',\n",
       "  'date': '2019-09-25 21:00:00',\n",
       "  'name': 'London',\n",
       "  'temp': 1569445200}]"
      ]
     },
     "execution_count": 31,
     "metadata": {},
     "output_type": "execute_result"
    }
   ],
   "source": [
    "new_dict"
   ]
  },
  {
   "cell_type": "code",
   "execution_count": 21,
   "metadata": {},
   "outputs": [],
   "source": [
    "test = {'paris':3}"
   ]
  },
  {
   "cell_type": "code",
   "execution_count": 26,
   "metadata": {},
   "outputs": [
    {
     "data": {
      "text/plain": [
       "dict_keys(['paris'])"
      ]
     },
     "execution_count": 26,
     "metadata": {},
     "output_type": "execute_result"
    }
   ],
   "source": []
  },
  {
   "cell_type": "code",
   "execution_count": null,
   "metadata": {},
   "outputs": [],
   "source": [
    "\n",
    "\n",
    "\n",
    "\n",
    "\n",
    "\n",
    "\n",
    "\n",
    "\n",
    "# End of exercices.\n",
    "\n",
    "\n",
    "########################################################################\n",
    "# Here's our \"unit tests\" (à quoi ça sert ? => https://huit.re/gMGd03vx)\n",
    "\n",
    "\n",
    "class Lesson1Tests(unittest.TestCase):\n",
    "    def test_01_string_times(self):\n",
    "        self.assertEqual(string_times('Plop', 2), 'PlopPlop')\n",
    "        self.assertEqual(string_times('Hey', 1), 'Hey')\n",
    "        self.assertEqual(string_times('=', 4), '====')\n",
    "\n",
    "    def test_02_is_leap_year(self):\n",
    "        self.assertTrue(is_leap_year(2000))\n",
    "        self.assertTrue(is_leap_year(2020))\n",
    "        self.assertFalse(is_leap_year(1899))\n",
    "        self.assertFalse(is_leap_year(1900))\n",
    "\n",
    "    def test_03_array_front9(self):\n",
    "        self.assertEqual(array_front9([1, 2, 9, 3, 4]), True)\n",
    "        self.assertEqual(array_front9([1, 2, 3, 4, 9]), False)\n",
    "        self.assertEqual(array_front9([1, 2, 3, 4, 5]), False)\n",
    "\n",
    "    def test_04_list_sqrt(self):\n",
    "        self.assertEqual(list_sqrt([]), [])\n",
    "        self.assertEqual(\n",
    "            list_sqrt([4, 9, 16, 81]),\n",
    "            [2.0, 3.0, 4.0, 9.0]\n",
    "        )\n",
    "\n",
    "    def test_05_occurences(self):\n",
    "        self.assertEqual(\n",
    "            occurences(\"hello world\"),\n",
    "            {'h': 1, 'e': 1, 'l': 3, 'o': 2, ' ': 1, 'w': 1, 'r': 1, 'd': 1}\n",
    "        )\n",
    "\n",
    "    def test_06_length_words(self):\n",
    "        self.assertEqual(length_words(['hello', 'world']), [5, 5])\n",
    "        self.assertEqual(length_words(['hey']), [3])\n",
    "\n",
    "    def test_07_number_to_digits(self):\n",
    "        self.assertEqual(number_to_digits(2019), [2, 0, 1, 9])\n",
    "\n",
    "    def test_08_pig_latin(self):\n",
    "        self.assertEqual(pig_latin(\"Hello\"), \"Ellohay\")\n",
    "        self.assertEqual(\n",
    "            pig_latin(\"The quick brown fox\"),\n",
    "            \"Hetay uickqay rownbay oxfay\"\n",
    "        )\n",
    "\n",
    "    def test_09_extract_data(self):\n",
    "        result = extract_data(weather_data)\n",
    "        self.assertEqual(\n",
    "            result[0],\n",
    "            {\n",
    "                'name': 'Paris',\n",
    "                'country': 'FR',\n",
    "                'date': \"2019-09-25 18:00:00\",\n",
    "                'temp': 16.0\n",
    "            }\n",
    "        )\n",
    "\n",
    "\n",
    "def run_tests():\n",
    "    test_suite = unittest.makeSuite(Lesson1Tests)\n",
    "    runner = unittest.TextTestRunner(verbosity=2)\n",
    "    runner.run(test_suite)\n",
    "\n",
    "\n",
    "if __name__ == '__main__':\n",
    "    run_tests()"
   ]
  }
 ],
 "metadata": {
  "kernelspec": {
   "display_name": "Python 3",
   "language": "python",
   "name": "python3"
  },
  "language_info": {
   "codemirror_mode": {
    "name": "ipython",
    "version": 3
   },
   "file_extension": ".py",
   "mimetype": "text/x-python",
   "name": "python",
   "nbconvert_exporter": "python",
   "pygments_lexer": "ipython3",
   "version": "3.6.4"
  }
 },
 "nbformat": 4,
 "nbformat_minor": 2
}
