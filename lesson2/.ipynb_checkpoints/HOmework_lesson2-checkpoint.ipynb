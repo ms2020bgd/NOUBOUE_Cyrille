{
 "cells": [
  {
   "cell_type": "markdown",
   "metadata": {},
   "source": [
    "\n",
    "# Une théorie veut que n'importe quel article sur Wikipedia pointe au final sur la philosophie. Pour la vérifier, il suffit de cliquer sur le premier lien d'un article Wikipedia qui mène à un autre article et ainsi de suite : à force, on tombe immanquablement sur l'article dédié à la philosophie."
   ]
  },
  {
   "cell_type": "code",
   "execution_count": 8,
   "metadata": {},
   "outputs": [],
   "source": [
    "from bs4 import BeautifulSoup as bs\n",
    "import requests\n",
    "import time"
   ]
  },
  {
   "cell_type": "code",
   "execution_count": 3,
   "metadata": {},
   "outputs": [],
   "source": [
    "base_url = \"https://fr.wikipedia.org\"\n",
    "debug = []"
   ]
  },
  {
   "cell_type": "code",
   "execution_count": 4,
   "metadata": {},
   "outputs": [],
   "source": [
    "def get_url(url):\n",
    "    req = requests.get(url).text\n",
    "    soup = bs(req, 'html.parser')\n",
    "    \n",
    "    return soup"
   ]
  },
  {
   "cell_type": "code",
   "execution_count": 5,
   "metadata": {},
   "outputs": [],
   "source": [
    "def filter_links(soup):\n",
    "    links = []\n",
    "    for a in soup.find(id=\"mw-content-text\").select('p a'):\n",
    "        if a.parent.name != 'span':\n",
    "            l = a.attrs.get('href')\n",
    "            if l and l.startswith('/wiki/') and ':' not in l:\n",
    "                url = base_url + l\n",
    "                links.append(url)\n",
    "    return links"
   ]
  },
  {
   "cell_type": "code",
   "execution_count": 13,
   "metadata": {},
   "outputs": [],
   "source": [
    "def follow_links(url):\n",
    "    count = 0\n",
    "    while count < 30 and not url.endswith(\"/wiki/Philosophie\"):\n",
    "        soup = get_url(url)\n",
    "        links = filter_links(soup)\n",
    "        url = links[0] if links[0] != url else links[1]\n",
    "        print('found:', url)\n",
    "        count += 1\n",
    "        time.sleep(0.5)\n",
    "    return count"
   ]
  },
  {
   "cell_type": "code",
   "execution_count": 14,
   "metadata": {},
   "outputs": [],
   "source": [
    "test_url = 'https://fr.wikipedia.org/wiki/%C3%89motion'"
   ]
  },
  {
   "cell_type": "code",
   "execution_count": 15,
   "metadata": {},
   "outputs": [
    {
     "name": "stdout",
     "output_type": "stream",
     "text": [
      "found: https://fr.wikipedia.org/wiki/Latin\n",
      "found: https://fr.wikipedia.org/wiki/Langues_italiques\n",
      "found: https://fr.wikipedia.org/wiki/Famille_de_langues\n",
      "found: https://fr.wikipedia.org/wiki/Langue\n",
      "found: https://fr.wikipedia.org/wiki/Syst%C3%A8me\n",
      "found: https://fr.wikipedia.org/wiki/Ensemble\n",
      "found: https://fr.wikipedia.org/wiki/Math%C3%A9matiques\n",
      "found: https://fr.wikipedia.org/wiki/Connaissance\n",
      "found: https://fr.wikipedia.org/wiki/Notion\n",
      "found: https://fr.wikipedia.org/wiki/Connaissance_(philosophie)\n",
      "found: https://fr.wikipedia.org/wiki/Philosophie\n"
     ]
    }
   ],
   "source": [
    "test = follow_links(test_url)"
   ]
  },
  {
   "cell_type": "code",
   "execution_count": null,
   "metadata": {},
   "outputs": [],
   "source": []
  }
 ],
 "metadata": {
  "kernelspec": {
   "display_name": "Python 3",
   "language": "python",
   "name": "python3"
  },
  "language_info": {
   "codemirror_mode": {
    "name": "ipython",
    "version": 3
   },
   "file_extension": ".py",
   "mimetype": "text/x-python",
   "name": "python",
   "nbconvert_exporter": "python",
   "pygments_lexer": "ipython3",
   "version": "3.6.4"
  }
 },
 "nbformat": 4,
 "nbformat_minor": 2
}
