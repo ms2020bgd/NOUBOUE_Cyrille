{
 "cells": [
  {
   "cell_type": "markdown",
   "metadata": {},
   "source": [
    "# <center><u>EXOS A FAIRE A LA MAISON:</u></center>\n",
    "\n",
    "- Récupérer via crawling la liste des 256 top contributors sur cette page https://gist.github.com/paulmillr/2657075\n",
    "\n",
    "- En utilisant l'API github (https://developer.github.com/v3/) récupérer pour chacun de ces users le nombre moyens de stars des repositories qui leur appartiennent. Pour finir, classer ces 256 contributors par leur note moyenne.﻿\n",
    "\n",
    "Comme l'API github dispose de restrictions d'accès (limitation du nombre de requêtes), vous aurez besoin de vous authentifier via un token: https://help.github.com/en/articles/creating-a-personal-access-token-for-the-command-line."
   ]
  },
  {
   "cell_type": "code",
   "execution_count": 1,
   "metadata": {},
   "outputs": [],
   "source": [
    "import requests\n",
    "from bs4 import BeautifulSoup"
   ]
  },
  {
   "cell_type": "code",
   "execution_count": 24,
   "metadata": {},
   "outputs": [],
   "source": [
    "import json"
   ]
  },
  {
   "cell_type": "code",
   "execution_count": 2,
   "metadata": {},
   "outputs": [],
   "source": [
    "url = \"https://gist.github.com/paulmillr/2657075\""
   ]
  },
  {
   "cell_type": "code",
   "execution_count": 3,
   "metadata": {},
   "outputs": [],
   "source": [
    "req = requests.get(url)\n",
    "soup = BeautifulSoup(req.text, \"lxml\")"
   ]
  },
  {
   "cell_type": "code",
   "execution_count": 4,
   "metadata": {},
   "outputs": [],
   "source": [
    "item_table = soup.find('table')"
   ]
  },
  {
   "cell_type": "code",
   "execution_count": 40,
   "metadata": {},
   "outputs": [],
   "source": [
    "item_lines = item_table.find_all('tr')[1:257]"
   ]
  },
  {
   "cell_type": "code",
   "execution_count": 41,
   "metadata": {},
   "outputs": [
    {
     "data": {
      "text/plain": [
       "256"
      ]
     },
     "execution_count": 41,
     "metadata": {},
     "output_type": "execute_result"
    }
   ],
   "source": [
    "len(item_lines)"
   ]
  },
  {
   "cell_type": "code",
   "execution_count": 52,
   "metadata": {},
   "outputs": [],
   "source": [
    "#Get top 256 contributors usernames\n",
    "def get_usernames(item_lines):\n",
    "    \n",
    "    list_usernames = [] #List of usernames\n",
    "    \n",
    "    for line in item_lines:\n",
    "        username = line.find_all('td')[0].text\n",
    "        list_usernames.append(username.split(' ')[0])\n",
    "        \n",
    "    return list_usernames\n"
   ]
  },
  {
   "cell_type": "code",
   "execution_count": 53,
   "metadata": {},
   "outputs": [],
   "source": [
    "list_usernames = get_usernames(item_lines)"
   ]
  },
  {
   "cell_type": "code",
   "execution_count": 56,
   "metadata": {},
   "outputs": [
    {
     "data": {
      "text/plain": [
       "['fabpot', 'andrew', 'taylorotwell', 'egoist', 'HugoGiraudel']"
      ]
     },
     "execution_count": 56,
     "metadata": {},
     "output_type": "execute_result"
    }
   ],
   "source": [
    "list_usernames[0:5]"
   ]
  },
  {
   "cell_type": "code",
   "execution_count": null,
   "metadata": {},
   "outputs": [],
   "source": [
    "#Load credentials\n",
    "credentials = json.load('credentials.json')"
   ]
  },
  {
   "cell_type": "code",
   "execution_count": 6,
   "metadata": {},
   "outputs": [],
   "source": [
    "credentials = {\n",
    "    \"username\": \"cyrilhokage\",\n",
    "    \"token\":\"92043a27fc595b62b4253d126c2484a2b43bff87\"\n",
    "}"
   ]
  },
  {
   "cell_type": "code",
   "execution_count": 73,
   "metadata": {},
   "outputs": [],
   "source": [
    "#Method to get the list f public repos for one user\n",
    "def get_public_repos(username):\n",
    "    \n",
    "    list_repo = []\n",
    "    \n",
    "    api_url = \"https://api.github.com/users/\" + username + \"/repos\"\n",
    "    data = requests.get(api_url, auth=(credentials['username'],credentials['token']))\n",
    "    list_repo = json.loads(data.content)\n",
    "    \n",
    "    return list_repo\n"
   ]
  },
  {
   "cell_type": "code",
   "execution_count": 74,
   "metadata": {},
   "outputs": [],
   "source": [
    "#test\n",
    "list_repo = get_public_repos('fabpot')"
   ]
  },
  {
   "cell_type": "code",
   "execution_count": 75,
   "metadata": {},
   "outputs": [
    {
     "data": {
      "text/plain": [
       "list"
      ]
     },
     "execution_count": 75,
     "metadata": {},
     "output_type": "execute_result"
    }
   ],
   "source": [
    "type(list_repo)"
   ]
  },
  {
   "cell_type": "code",
   "execution_count": 101,
   "metadata": {},
   "outputs": [],
   "source": [
    "#Method to compute startgrazers_mean of one user's repositories\n",
    "def get_mean_startgazers(list_repo):\n",
    "    \n",
    "    star_sum = 0\n",
    "    for repo in list_repo:\n",
    "        star_sum += repo['stargazers_count']\n",
    "    \n",
    "    if(len(list_repo) != 0):\n",
    "        star_mean = star_sum / len(list_repo)\n",
    "    else:\n",
    "        star_mean =0\n",
    "        \n",
    "    return star_mean"
   ]
  },
  {
   "cell_type": "code",
   "execution_count": 80,
   "metadata": {},
   "outputs": [],
   "source": [
    "#Test\n",
    "mean_starz = get_mean_startgazers(list_repo)"
   ]
  },
  {
   "cell_type": "code",
   "execution_count": 81,
   "metadata": {},
   "outputs": [
    {
     "data": {
      "text/plain": [
       "13.033333333333333"
      ]
     },
     "execution_count": 81,
     "metadata": {},
     "output_type": "execute_result"
    }
   ],
   "source": [
    "mean_starz"
   ]
  },
  {
   "cell_type": "code",
   "execution_count": 85,
   "metadata": {},
   "outputs": [],
   "source": [
    "def get_mean_stars_repo(list_usernames):\n",
    "    \n",
    "    dict_users = {}\n",
    "    \n",
    "    for user in list_usernames:\n",
    "        \n",
    "        list_repo = get_public_repos(user)\n",
    "        mean_stars = get_mean_startgazers(list_repo)\n",
    "        dict_users.update( {user : mean_stars } ) \n",
    "        \n",
    "    return dict_users\n",
    "        "
   ]
  },
  {
   "cell_type": "code",
   "execution_count": 102,
   "metadata": {},
   "outputs": [],
   "source": [
    "#Test\n",
    "dict_users = get_mean_stars_repo(list_usernames)"
   ]
  },
  {
   "cell_type": "code",
   "execution_count": 108,
   "metadata": {},
   "outputs": [
    {
     "data": {
      "text/plain": [
       "0.7666666666666667"
      ]
     },
     "execution_count": 108,
     "metadata": {},
     "output_type": "execute_result"
    }
   ],
   "source": [
    "dict_users['ljharb']"
   ]
  },
  {
   "cell_type": "code",
   "execution_count": 109,
   "metadata": {},
   "outputs": [
    {
     "data": {
      "text/plain": [
       "{'0x00A': 0.0,\n",
       " 'AdamBien': 36.0,\n",
       " 'BurntSushi': 67.96666666666667,\n",
       " 'Caged': 40.833333333333336,\n",
       " 'CamDavidsonPilon': 69.33333333333333,\n",
       " 'DataTables': 222.86666666666667,\n",
       " 'Draveness': 422.23333333333335,\n",
       " 'EisenbergEffect': 7.0,\n",
       " 'GrahamCampbell': 135.24137931034483,\n",
       " 'Haacked': 22.8,\n",
       " 'HugoGiraudel': 139.13333333333333,\n",
       " 'IanLunn': 1498.0,\n",
       " 'IgorMinar': 2.7,\n",
       " 'JakeWharton': 1396.1666666666667,\n",
       " 'Jinjiang': 31.8,\n",
       " 'JohnSundell': 255.2,\n",
       " 'KittenYang': 110.03333333333333,\n",
       " 'KrauseFx': 49.9,\n",
       " 'LeaVerou': 567.4666666666667,\n",
       " 'Ocramius': 3.4,\n",
       " 'Raynos': 10.233333333333333,\n",
       " 'Rich-Harris': 63.266666666666666,\n",
       " 'STRML': 1.2,\n",
       " 'SamyPesse': 63.8,\n",
       " 'Seldaek': 8.833333333333334,\n",
       " 'Shougo': 342.0,\n",
       " 'StephenGrider': 95.03333333333333,\n",
       " 'Unknwon': 525.5666666666667,\n",
       " 'adamwathan': 80.43333333333334,\n",
       " 'afc163': 1.7333333333333334,\n",
       " 'agentzh': 40.43333333333333,\n",
       " 'ahmetb': 16.633333333333333,\n",
       " 'ai': 503.8333333333333,\n",
       " 'alanhamlett': 3.7,\n",
       " 'alex': 4.9,\n",
       " 'alexcrichton': 5.133333333333334,\n",
       " 'alexjlockwood': 165.33333333333334,\n",
       " 'amitshekhariitbhu': 550.7,\n",
       " 'amueller': 29.066666666666666,\n",
       " 'andrew': 1.9,\n",
       " 'anishathalye': 468.96666666666664,\n",
       " 'ankane': 239.43333333333334,\n",
       " 'appleboy': 2.6666666666666665,\n",
       " 'arun-gupta': 5.266666666666667,\n",
       " 'arunoda': 1.8666666666666667,\n",
       " 'ashfurrow': 35.93333333333333,\n",
       " 'ashleygwilliams': 9.666666666666666,\n",
       " 'ask': 20.1,\n",
       " 'atian25': 50.96666666666667,\n",
       " 'atmos': 47.733333333333334,\n",
       " 'avelino': 1634.1333333333334,\n",
       " 'ayende': 7.966666666666667,\n",
       " 'bailicangdu': 3254.2105263157896,\n",
       " 'be5invis': 290.1666666666667,\n",
       " 'bebraw': 23.366666666666667,\n",
       " 'benbalter': 15.466666666666667,\n",
       " 'benjamn': 25.566666666666666,\n",
       " 'benoitc': 22.7,\n",
       " 'bevacqua': 33.36666666666667,\n",
       " 'biezhi': 96.43333333333334,\n",
       " 'binux': 887.4545454545455,\n",
       " 'bkeepers': 186.16666666666666,\n",
       " 'bnoordhuis': 1.9,\n",
       " 'brentvatne': 3.6,\n",
       " 'brianleroux': 2.5,\n",
       " 'brunocvcunha': 13.5,\n",
       " 'buckyroberts': 210.26666666666668,\n",
       " 'c9s': 5.633333333333334,\n",
       " 'carpedm20': 242.86666666666667,\n",
       " 'chenglou': 3.3333333333333335,\n",
       " 'chjj': 355.53333333333336,\n",
       " 'codahale': 65.83333333333333,\n",
       " 'connors': 685.0714285714286,\n",
       " 'contra': 14.8,\n",
       " 'curran': 6.633333333333334,\n",
       " 'davidfowl': 80.96666666666667,\n",
       " 'davidtmiller': 8.6,\n",
       " 'daylerees': 409.46666666666664,\n",
       " 'dcramer': 62.6,\n",
       " 'dead-horse': 7.633333333333334,\n",
       " 'ded': 448.6923076923077,\n",
       " 'dennybritz': 448.7,\n",
       " 'developit': 17.333333333333332,\n",
       " 'djspiewak': 23.566666666666666,\n",
       " 'dlew': 65.36666666666666,\n",
       " 'dmalan': 1.3666666666666667,\n",
       " 'domenic': 61.1,\n",
       " 'dominictarr': 4.833333333333333,\n",
       " 'dougwilson': 10.266666666666667,\n",
       " 'drakeet': 275.3157894736842,\n",
       " 'drnic': 10.0,\n",
       " 'dsyer': 0.9,\n",
       " 'ebidel': 128.13333333333333,\n",
       " 'eduardolundgren': 297.3333333333333,\n",
       " 'egoist': 13.533333333333333,\n",
       " 'eliben': 73.43333333333334,\n",
       " 'ericelliott': 99.4,\n",
       " 'evanphx': 49.53333333333333,\n",
       " 'evilsocket': 208.3,\n",
       " 'f': 13.9,\n",
       " 'fabpot': 13.033333333333333,\n",
       " 'fengmk2': 1.5,\n",
       " 'feross': 116.73333333333333,\n",
       " 'fzaninotto': 776.3333333333334,\n",
       " 'gaearon': 46.766666666666666,\n",
       " 'gdi2290': 0,\n",
       " 'geerlingguy': 132.8,\n",
       " 'gitster': 61.7,\n",
       " 'gorhill': 1225.7142857142858,\n",
       " 'hadley': 83.86666666666666,\n",
       " 'happypeter': 3.7333333333333334,\n",
       " 'holman': 314.1333333333333,\n",
       " 'hzoo': 25.566666666666666,\n",
       " 'i5ting': 3.533333333333333,\n",
       " 'ianstormtaylor': 13.8,\n",
       " 'indutny': 47.3,\n",
       " 'isaacs': 16.666666666666668,\n",
       " 'j2kun': 5.066666666666666,\n",
       " 'jamesmontemagno': 16.3,\n",
       " 'jaredhanson': 4.433333333333334,\n",
       " 'jaywcjlove': 1423.6333333333334,\n",
       " 'jdalton': 20.454545454545453,\n",
       " 'jendewalt': 208.66666666666666,\n",
       " 'jennybc': 11.666666666666666,\n",
       " 'jessfraz': 48.7,\n",
       " 'jgm': 71.2,\n",
       " 'jiyinyiyong': 0.6333333333333333,\n",
       " 'jonathanong': 8.4,\n",
       " 'josegonzalez': 7.966666666666667,\n",
       " 'josephmisiti': 1408.9666666666667,\n",
       " 'josevalim': 53.57142857142857,\n",
       " 'joshaber': 67.96666666666667,\n",
       " 'joyeecheung': 6.033333333333333,\n",
       " 'jskeet': 13.833333333333334,\n",
       " 'junyanz': 1811.4666666666667,\n",
       " 'jverkoey': 118.46666666666667,\n",
       " 'jwiegley': 30.966666666666665,\n",
       " 'jxnblk': 21.966666666666665,\n",
       " 'kamranahmedse': 4535.566666666667,\n",
       " 'kbrsh': 10.233333333333333,\n",
       " 'keijiro': 31.766666666666666,\n",
       " 'kennethreitz': 388.53333333333336,\n",
       " 'kentcdodds': 124.63333333333334,\n",
       " 'kevinsawicki': 5.966666666666667,\n",
       " 'killme2008': 54.166666666666664,\n",
       " 'krzysztofzablocki': 469.6333333333333,\n",
       " 'kylef': 244.8,\n",
       " 'kytrinyx': 13.166666666666666,\n",
       " 'laanwj': 7.1,\n",
       " 'leah': 122.15,\n",
       " 'leebyron': 28.366666666666667,\n",
       " 'ljharb': 0.7666666666666667,\n",
       " 'madskristensen': 23.866666666666667,\n",
       " 'mafintosh': 57.63333333333333,\n",
       " 'marijnh': 121.03333333333333,\n",
       " 'mariotaku': 4.733333333333333,\n",
       " 'maryrosecook': 11.7,\n",
       " 'matsko': 17.689655172413794,\n",
       " 'mattn': 36.1,\n",
       " 'matyhtf': 312.15384615384613,\n",
       " 'mcollina': 137.4,\n",
       " 'mdo': 723.4814814814815,\n",
       " 'mgechev': 290.93333333333334,\n",
       " 'mhevery': 63.233333333333334,\n",
       " 'michalbe': 6.2,\n",
       " 'mikepenz': 373.6333333333333,\n",
       " 'mikermcneil': 2.3333333333333335,\n",
       " 'mitchellh': 172.96666666666667,\n",
       " 'mitsuhiko': 30.033333333333335,\n",
       " 'miyagawa': 5.866666666666666,\n",
       " 'mjhea0': 4.533333333333333,\n",
       " 'mrdoob': 2227.5666666666666,\n",
       " 'mrmrs': 309.1,\n",
       " 'muan': 97.9,\n",
       " 'mxcl': 484.4,\n",
       " 'mxstbr': 3.5,\n",
       " 'nelsonic': 1.3,\n",
       " 'nfultz': 2.8,\n",
       " 'nicolasgramlich': 139.16666666666666,\n",
       " 'nikic': 159.43333333333334,\n",
       " 'nolimits4web': 1853.3333333333333,\n",
       " 'notwaldorf': 80.13333333333334,\n",
       " 'nvie': 16.166666666666668,\n",
       " 'odersky': 17.22222222222222,\n",
       " 'oldratlee': 36.3,\n",
       " 'olivergierke': 0,\n",
       " 'onevcat': 72.4,\n",
       " 'ornicar': 14.733333333333333,\n",
       " 'orta': 4.033333333333333,\n",
       " 'overtrue': 232.86666666666667,\n",
       " 'passy': 71.73333333333333,\n",
       " 'paulcbetts': 0,\n",
       " 'paulirish': 66.6,\n",
       " 'paulmillr': 397.46666666666664,\n",
       " 'philsturgeon': 100.23333333333333,\n",
       " 'phodal': 137.63333333333333,\n",
       " 'photonstorm': 1030.5333333333333,\n",
       " 'phuslu': 5.366666666666666,\n",
       " 'pissang': 91.0,\n",
       " 'pkrumins': 22.0,\n",
       " 'purcell': 6.9,\n",
       " 'radar': 32.5,\n",
       " 'rafaelfranca': 0.9,\n",
       " 'rakyll': 227.5,\n",
       " 'rauchg': 63.4,\n",
       " 'remy': 35.46666666666667,\n",
       " 'rnystrom': 15.533333333333333,\n",
       " 'rstacruz': 28.5,\n",
       " 'rtomayko': 341.1304347826087,\n",
       " 'ruanyf': 1845.3,\n",
       " 'samdark': 6.6,\n",
       " 'samuelclay': 186.13333333333333,\n",
       " 'sdiehl': 19.4,\n",
       " 'sebastianbergmann': 2132.733333333333,\n",
       " 'sevilayha': 0.8666666666666667,\n",
       " 'shama': 6.6,\n",
       " 'shiffman': 42.733333333333334,\n",
       " 'siddontang': 170.53333333333333,\n",
       " 'simurai': 42.75,\n",
       " 'soffes': 89.5,\n",
       " 'sokra': 1.4,\n",
       " 'soumith': 169.43333333333334,\n",
       " 'staltz': 55.2,\n",
       " 'stefanpenner': 1.1333333333333333,\n",
       " 'steipete': 485.26666666666665,\n",
       " 'steveklabnik': 2.3,\n",
       " 'stof': 0.8666666666666667,\n",
       " 'suissa': 1.8666666666666667,\n",
       " 'taylorotwell': 8.333333333333334,\n",
       " 'technoweenie': 81.36666666666666,\n",
       " 'thejameskyle': 0,\n",
       " 'tj': 461.1666666666667,\n",
       " 'tmcw': 146.9,\n",
       " 'tmm1': 21.3,\n",
       " 'toddmotto': 491.56666666666666,\n",
       " 'tomchristie': 38.13333333333333,\n",
       " 'unicodeveloper': 171.13333333333333,\n",
       " 'vczh': 296.875,\n",
       " 'vhf': 4.133333333333334,\n",
       " 'vinta': 3214.375,\n",
       " 'vjeux': 1.2,\n",
       " 'vladikoff': 2.9,\n",
       " 'weavejester': 59.36666666666667,\n",
       " 'weierophinney': 5.5,\n",
       " 'wesm': 0.9,\n",
       " 'willdurand': 75.23333333333333,\n",
       " 'winterbe': 446.2,\n",
       " 'xudafeng': 57.6,\n",
       " 'yeasy': 199.76666666666668,\n",
       " 'yegor256': 46.06666666666667,\n",
       " 'yihui': 27.633333333333333,\n",
       " 'yoshuawuyts': 3.7,\n",
       " 'yyx990803': 80.53333333333333,\n",
       " 'zcbenz': 77.66666666666667,\n",
       " 'zce': 20.033333333333335,\n",
       " 'zenorocha': 1359.1333333333334}"
      ]
     },
     "execution_count": 109,
     "metadata": {},
     "output_type": "execute_result"
    }
   ],
   "source": [
    "dict_users"
   ]
  }
 ],
 "metadata": {
  "kernelspec": {
   "display_name": "Python 3",
   "language": "python",
   "name": "python3"
  },
  "language_info": {
   "codemirror_mode": {
    "name": "ipython",
    "version": 3
   },
   "file_extension": ".py",
   "mimetype": "text/x-python",
   "name": "python",
   "nbconvert_exporter": "python",
   "pygments_lexer": "ipython3",
   "version": "3.6.4"
  }
 },
 "nbformat": 4,
 "nbformat_minor": 2
}
