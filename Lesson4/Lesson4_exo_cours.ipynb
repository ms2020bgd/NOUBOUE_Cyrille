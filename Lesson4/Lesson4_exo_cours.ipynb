{
 "cells": [
  {
   "cell_type": "markdown",
   "metadata": {},
   "source": [
    "# Exercice\n",
    "Faire un programme qui:\n",
    "\n",
    "Trouve les 10 villes de France les + peuplées (e.g https://fr.wikipedia.org/wiki/Liste_des_communes_de_France_les_plus_peuplées)\n",
    "Pour chaque ville, trouve sa distance avec les autres.\n",
    "par exemple, avec google maps api (nécessite de s'authentifier / créer un token) avec https://github.com/googlemaps/google-maps-services-python (cf. doc token dans le readme)\n",
    "ou avec https://fr.distance24.org/ (pas besoin de s'authentifier)\n",
    "Trouve les villes les plus proches"
   ]
  },
  {
   "cell_type": "code",
   "execution_count": 1,
   "metadata": {},
   "outputs": [],
   "source": [
    "import requests\n",
    "from bs4 import BeautifulSoup"
   ]
  },
  {
   "cell_type": "code",
   "execution_count": 2,
   "metadata": {},
   "outputs": [],
   "source": [
    "import json"
   ]
  },
  {
   "cell_type": "code",
   "execution_count": 3,
   "metadata": {},
   "outputs": [],
   "source": [
    "import pandas as pd"
   ]
  },
  {
   "cell_type": "code",
   "execution_count": 4,
   "metadata": {},
   "outputs": [],
   "source": [
    "url = \"https://fr.wikipedia.org/wiki/Liste_des_communes_de_France_les_plus_peupl%C3%A9es\""
   ]
  },
  {
   "cell_type": "code",
   "execution_count": 5,
   "metadata": {},
   "outputs": [],
   "source": [
    "req = requests.get(url)\n",
    "soup = BeautifulSoup(req.text, \"lxml\")"
   ]
  },
  {
   "cell_type": "code",
   "execution_count": 6,
   "metadata": {},
   "outputs": [],
   "source": [
    "item_table = soup.find('table')"
   ]
  },
  {
   "cell_type": "code",
   "execution_count": 7,
   "metadata": {},
   "outputs": [],
   "source": [
    "item_lines = item_table.find_all('tr')[1:11]"
   ]
  },
  {
   "cell_type": "code",
   "execution_count": 8,
   "metadata": {},
   "outputs": [
    {
     "data": {
      "text/plain": [
       "10"
      ]
     },
     "execution_count": 8,
     "metadata": {},
     "output_type": "execute_result"
    }
   ],
   "source": [
    "len(item_lines)"
   ]
  },
  {
   "cell_type": "code",
   "execution_count": 9,
   "metadata": {},
   "outputs": [],
   "source": [
    "list_town = []"
   ]
  },
  {
   "cell_type": "code",
   "execution_count": 10,
   "metadata": {},
   "outputs": [],
   "source": [
    "for line in item_lines :\n",
    "    town_name = line.find_all('td')[1].find('a').text\n",
    "    list_town.append(town_name)"
   ]
  },
  {
   "cell_type": "code",
   "execution_count": 11,
   "metadata": {},
   "outputs": [
    {
     "data": {
      "text/plain": [
       "['Paris',\n",
       " 'Marseille',\n",
       " 'Lyon',\n",
       " 'Toulouse',\n",
       " 'Nice',\n",
       " 'Nantes',\n",
       " 'Montpellier',\n",
       " 'Strasbourg',\n",
       " 'Bordeaux',\n",
       " 'Lille']"
      ]
     },
     "execution_count": 11,
     "metadata": {},
     "output_type": "execute_result"
    }
   ],
   "source": [
    "list_town"
   ]
  },
  {
   "cell_type": "code",
   "execution_count": 12,
   "metadata": {},
   "outputs": [
    {
     "data": {
      "text/plain": [
       "10"
      ]
     },
     "execution_count": 12,
     "metadata": {},
     "output_type": "execute_result"
    }
   ],
   "source": [
    "len(list_town)"
   ]
  },
  {
   "cell_type": "code",
   "execution_count": null,
   "metadata": {},
   "outputs": [],
   "source": []
  },
  {
   "cell_type": "code",
   "execution_count": 14,
   "metadata": {},
   "outputs": [],
   "source": [
    "def get_distance(list_town):\n",
    "\n",
    "    dict_distance = {}\n",
    "    \n",
    "    for town in list_town :\n",
    "\n",
    "        dict_distance[town] = {}\n",
    "        for town_bis in list_town:\n",
    "\n",
    "            if(town != town_bis):\n",
    "                distance = get_distance_between(town, town_bis)\n",
    "                dict_distance[town][town_bis] = int(distance)\n",
    "                \n",
    "    return dict_distance"
   ]
  },
  {
   "cell_type": "code",
   "execution_count": 15,
   "metadata": {},
   "outputs": [],
   "source": [
    "dict_distance = get_distance(list_town)"
   ]
  },
  {
   "cell_type": "code",
   "execution_count": 16,
   "metadata": {},
   "outputs": [],
   "source": [
    "df = pd.DataFrame(dict_distance)"
   ]
  },
  {
   "cell_type": "code",
   "execution_count": 17,
   "metadata": {},
   "outputs": [
    {
     "data": {
      "text/html": [
       "<div>\n",
       "<style scoped>\n",
       "    .dataframe tbody tr th:only-of-type {\n",
       "        vertical-align: middle;\n",
       "    }\n",
       "\n",
       "    .dataframe tbody tr th {\n",
       "        vertical-align: top;\n",
       "    }\n",
       "\n",
       "    .dataframe thead th {\n",
       "        text-align: right;\n",
       "    }\n",
       "</style>\n",
       "<table border=\"1\" class=\"dataframe\">\n",
       "  <thead>\n",
       "    <tr style=\"text-align: right;\">\n",
       "      <th></th>\n",
       "      <th>Bordeaux</th>\n",
       "      <th>Lille</th>\n",
       "      <th>Lyon</th>\n",
       "      <th>Marseille</th>\n",
       "      <th>Montpellier</th>\n",
       "      <th>Nantes</th>\n",
       "      <th>Nice</th>\n",
       "      <th>Paris</th>\n",
       "      <th>Strasbourg</th>\n",
       "      <th>Toulouse</th>\n",
       "    </tr>\n",
       "  </thead>\n",
       "  <tbody>\n",
       "    <tr>\n",
       "      <th>Bordeaux</th>\n",
       "      <td>NaN</td>\n",
       "      <td>700.0</td>\n",
       "      <td>436.0</td>\n",
       "      <td>506.0</td>\n",
       "      <td>381.0</td>\n",
       "      <td>276.0</td>\n",
       "      <td>638.0</td>\n",
       "      <td>500.0</td>\n",
       "      <td>760.0</td>\n",
       "      <td>212.0</td>\n",
       "    </tr>\n",
       "    <tr>\n",
       "      <th>Lille</th>\n",
       "      <td>700.0</td>\n",
       "      <td>NaN</td>\n",
       "      <td>558.0</td>\n",
       "      <td>835.0</td>\n",
       "      <td>784.0</td>\n",
       "      <td>508.0</td>\n",
       "      <td>835.0</td>\n",
       "      <td>204.0</td>\n",
       "      <td>408.0</td>\n",
       "      <td>792.0</td>\n",
       "    </tr>\n",
       "    <tr>\n",
       "      <th>Lyon</th>\n",
       "      <td>436.0</td>\n",
       "      <td>558.0</td>\n",
       "      <td>NaN</td>\n",
       "      <td>278.0</td>\n",
       "      <td>251.0</td>\n",
       "      <td>516.0</td>\n",
       "      <td>300.0</td>\n",
       "      <td>392.0</td>\n",
       "      <td>384.0</td>\n",
       "      <td>360.0</td>\n",
       "    </tr>\n",
       "    <tr>\n",
       "      <th>Marseille</th>\n",
       "      <td>506.0</td>\n",
       "      <td>835.0</td>\n",
       "      <td>278.0</td>\n",
       "      <td>NaN</td>\n",
       "      <td>126.0</td>\n",
       "      <td>696.0</td>\n",
       "      <td>159.0</td>\n",
       "      <td>661.0</td>\n",
       "      <td>617.0</td>\n",
       "      <td>319.0</td>\n",
       "    </tr>\n",
       "    <tr>\n",
       "      <th>Montpellier</th>\n",
       "      <td>381.0</td>\n",
       "      <td>784.0</td>\n",
       "      <td>251.0</td>\n",
       "      <td>126.0</td>\n",
       "      <td>NaN</td>\n",
       "      <td>584.0</td>\n",
       "      <td>273.0</td>\n",
       "      <td>596.0</td>\n",
       "      <td>629.0</td>\n",
       "      <td>196.0</td>\n",
       "    </tr>\n",
       "    <tr>\n",
       "      <th>Nantes</th>\n",
       "      <td>276.0</td>\n",
       "      <td>508.0</td>\n",
       "      <td>516.0</td>\n",
       "      <td>696.0</td>\n",
       "      <td>584.0</td>\n",
       "      <td>NaN</td>\n",
       "      <td>792.0</td>\n",
       "      <td>343.0</td>\n",
       "      <td>710.0</td>\n",
       "      <td>466.0</td>\n",
       "    </tr>\n",
       "    <tr>\n",
       "      <th>Nice</th>\n",
       "      <td>638.0</td>\n",
       "      <td>835.0</td>\n",
       "      <td>300.0</td>\n",
       "      <td>159.0</td>\n",
       "      <td>273.0</td>\n",
       "      <td>792.0</td>\n",
       "      <td>NaN</td>\n",
       "      <td>688.0</td>\n",
       "      <td>545.0</td>\n",
       "      <td>469.0</td>\n",
       "    </tr>\n",
       "    <tr>\n",
       "      <th>Paris</th>\n",
       "      <td>500.0</td>\n",
       "      <td>204.0</td>\n",
       "      <td>392.0</td>\n",
       "      <td>661.0</td>\n",
       "      <td>596.0</td>\n",
       "      <td>343.0</td>\n",
       "      <td>688.0</td>\n",
       "      <td>NaN</td>\n",
       "      <td>397.0</td>\n",
       "      <td>589.0</td>\n",
       "    </tr>\n",
       "    <tr>\n",
       "      <th>Strasbourg</th>\n",
       "      <td>760.0</td>\n",
       "      <td>408.0</td>\n",
       "      <td>384.0</td>\n",
       "      <td>617.0</td>\n",
       "      <td>629.0</td>\n",
       "      <td>710.0</td>\n",
       "      <td>545.0</td>\n",
       "      <td>397.0</td>\n",
       "      <td>NaN</td>\n",
       "      <td>737.0</td>\n",
       "    </tr>\n",
       "    <tr>\n",
       "      <th>Toulouse</th>\n",
       "      <td>212.0</td>\n",
       "      <td>792.0</td>\n",
       "      <td>360.0</td>\n",
       "      <td>319.0</td>\n",
       "      <td>196.0</td>\n",
       "      <td>466.0</td>\n",
       "      <td>469.0</td>\n",
       "      <td>589.0</td>\n",
       "      <td>737.0</td>\n",
       "      <td>NaN</td>\n",
       "    </tr>\n",
       "  </tbody>\n",
       "</table>\n",
       "</div>"
      ],
      "text/plain": [
       "             Bordeaux  Lille   Lyon  Marseille  Montpellier  Nantes   Nice  \\\n",
       "Bordeaux          NaN  700.0  436.0      506.0        381.0   276.0  638.0   \n",
       "Lille           700.0    NaN  558.0      835.0        784.0   508.0  835.0   \n",
       "Lyon            436.0  558.0    NaN      278.0        251.0   516.0  300.0   \n",
       "Marseille       506.0  835.0  278.0        NaN        126.0   696.0  159.0   \n",
       "Montpellier     381.0  784.0  251.0      126.0          NaN   584.0  273.0   \n",
       "Nantes          276.0  508.0  516.0      696.0        584.0     NaN  792.0   \n",
       "Nice            638.0  835.0  300.0      159.0        273.0   792.0    NaN   \n",
       "Paris           500.0  204.0  392.0      661.0        596.0   343.0  688.0   \n",
       "Strasbourg      760.0  408.0  384.0      617.0        629.0   710.0  545.0   \n",
       "Toulouse        212.0  792.0  360.0      319.0        196.0   466.0  469.0   \n",
       "\n",
       "             Paris  Strasbourg  Toulouse  \n",
       "Bordeaux     500.0       760.0     212.0  \n",
       "Lille        204.0       408.0     792.0  \n",
       "Lyon         392.0       384.0     360.0  \n",
       "Marseille    661.0       617.0     319.0  \n",
       "Montpellier  596.0       629.0     196.0  \n",
       "Nantes       343.0       710.0     466.0  \n",
       "Nice         688.0       545.0     469.0  \n",
       "Paris          NaN       397.0     589.0  \n",
       "Strasbourg   397.0         NaN     737.0  \n",
       "Toulouse     589.0       737.0       NaN  "
      ]
     },
     "execution_count": 17,
     "metadata": {},
     "output_type": "execute_result"
    }
   ],
   "source": [
    "df"
   ]
  },
  {
   "cell_type": "code",
   "execution_count": 18,
   "metadata": {},
   "outputs": [],
   "source": [
    "def get_closest_towns(df_towns):\n",
    "    \n",
    "    list_min_values = df_towns.min()\n",
    "    min_value = min(list_min_values)\n",
    "    \n",
    "    return list_min_values[list_min_values==min_value].index"
   ]
  },
  {
   "cell_type": "code",
   "execution_count": 19,
   "metadata": {},
   "outputs": [],
   "source": [
    "closest_towns = get_closest_towns(df)"
   ]
  },
  {
   "cell_type": "code",
   "execution_count": 20,
   "metadata": {},
   "outputs": [
    {
     "name": "stdout",
     "output_type": "stream",
     "text": [
      "Les villes les plus peuplées et les plus proches sont Marseille et Montpellier\n"
     ]
    }
   ],
   "source": [
    "print('Les villes les plus peuplées et les plus proches sont ' + ' et '.join(closest_towns))"
   ]
  },
  {
   "cell_type": "code",
   "execution_count": null,
   "metadata": {},
   "outputs": [],
   "source": []
  }
 ],
 "metadata": {
  "kernelspec": {
   "display_name": "Python 3",
   "language": "python",
   "name": "python3"
  },
  "language_info": {
   "codemirror_mode": {
    "name": "ipython",
    "version": 3
   },
   "file_extension": ".py",
   "mimetype": "text/x-python",
   "name": "python",
   "nbconvert_exporter": "python",
   "pygments_lexer": "ipython3",
   "version": "3.6.4"
  }
 },
 "nbformat": 4,
 "nbformat_minor": 2
}
